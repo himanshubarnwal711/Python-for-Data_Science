{
 "cells": [
  {
   "cell_type": "code",
   "execution_count": 1,
   "id": "261fa611",
   "metadata": {},
   "outputs": [
    {
     "name": "stdout",
     "output_type": "stream",
     "text": [
      "hello\n"
     ]
    }
   ],
   "source": [
    "print('hello')"
   ]
  },
  {
   "cell_type": "code",
   "execution_count": 2,
   "id": "1c745dc9",
   "metadata": {},
   "outputs": [
    {
     "data": {
      "text/plain": [
       "1"
      ]
     },
     "execution_count": 2,
     "metadata": {},
     "output_type": "execute_result"
    }
   ],
   "source": [
    "1+1-1"
   ]
  },
  {
   "cell_type": "code",
   "execution_count": 3,
   "id": "b95e62af",
   "metadata": {},
   "outputs": [
    {
     "name": "stdout",
     "output_type": "stream",
     "text": [
      "[1, 2, 3]\n"
     ]
    }
   ],
   "source": [
    "a=[1,2,3]\n",
    "print(a)"
   ]
  },
  {
   "cell_type": "code",
   "execution_count": 4,
   "id": "12073905",
   "metadata": {},
   "outputs": [
    {
     "data": {
      "text/plain": [
       "[1, 2, 3]"
      ]
     },
     "execution_count": 4,
     "metadata": {},
     "output_type": "execute_result"
    }
   ],
   "source": [
    "a"
   ]
  },
  {
   "cell_type": "code",
   "execution_count": 5,
   "id": "b6fe02dc",
   "metadata": {},
   "outputs": [
    {
     "data": {
      "text/plain": [
       "[1, 2, 3]"
      ]
     },
     "execution_count": 5,
     "metadata": {},
     "output_type": "execute_result"
    }
   ],
   "source": [
    "a"
   ]
  },
  {
   "cell_type": "code",
   "execution_count": 6,
   "id": "c5742b51",
   "metadata": {},
   "outputs": [
    {
     "name": "stdout",
     "output_type": "stream",
     "text": [
      "heeloo\n"
     ]
    }
   ],
   "source": [
    "print('heeloo')"
   ]
  },
  {
   "cell_type": "code",
   "execution_count": 7,
   "id": "204766c6",
   "metadata": {},
   "outputs": [
    {
     "data": {
      "text/plain": [
       "[1, 2, 3]"
      ]
     },
     "execution_count": 7,
     "metadata": {},
     "output_type": "execute_result"
    }
   ],
   "source": [
    "a\n"
   ]
  },
  {
   "cell_type": "code",
   "execution_count": 8,
   "id": "e3320977",
   "metadata": {},
   "outputs": [
    {
     "data": {
      "text/plain": [
       "0.5"
      ]
     },
     "execution_count": 8,
     "metadata": {},
     "output_type": "execute_result"
    }
   ],
   "source": [
    "1/2"
   ]
  },
  {
   "cell_type": "code",
   "execution_count": 9,
   "id": "52dd5b60",
   "metadata": {},
   "outputs": [
    {
     "data": {
      "text/plain": [
       "1.0"
      ]
     },
     "execution_count": 9,
     "metadata": {},
     "output_type": "execute_result"
    }
   ],
   "source": [
    "1.0"
   ]
  },
  {
   "cell_type": "code",
   "execution_count": 10,
   "id": "c167e919",
   "metadata": {},
   "outputs": [
    {
     "data": {
      "text/plain": [
       "2"
      ]
     },
     "execution_count": 10,
     "metadata": {},
     "output_type": "execute_result"
    }
   ],
   "source": [
    "1+1"
   ]
  },
  {
   "cell_type": "code",
   "execution_count": 11,
   "id": "355aa92b",
   "metadata": {},
   "outputs": [
    {
     "data": {
      "text/plain": [
       "4"
      ]
     },
     "execution_count": 11,
     "metadata": {},
     "output_type": "execute_result"
    }
   ],
   "source": [
    "1+3"
   ]
  },
  {
   "cell_type": "code",
   "execution_count": 12,
   "id": "6811e1fa",
   "metadata": {},
   "outputs": [
    {
     "data": {
      "text/plain": [
       "0.45454545454545453"
      ]
     },
     "execution_count": 12,
     "metadata": {},
     "output_type": "execute_result"
    }
   ],
   "source": [
    "1/2.2"
   ]
  },
  {
   "cell_type": "code",
   "execution_count": 13,
   "id": "728f6705",
   "metadata": {},
   "outputs": [
    {
     "data": {
      "text/plain": [
       "3.142857142857143"
      ]
     },
     "execution_count": 13,
     "metadata": {},
     "output_type": "execute_result"
    }
   ],
   "source": [
    "22/7"
   ]
  },
  {
   "cell_type": "code",
   "execution_count": 14,
   "id": "6a83e3ce",
   "metadata": {},
   "outputs": [
    {
     "data": {
      "text/plain": [
       "16"
      ]
     },
     "execution_count": 14,
     "metadata": {},
     "output_type": "execute_result"
    }
   ],
   "source": [
    "2**4"
   ]
  },
  {
   "cell_type": "code",
   "execution_count": 15,
   "id": "0986d0e1",
   "metadata": {},
   "outputs": [
    {
     "data": {
      "text/plain": [
       "2"
      ]
     },
     "execution_count": 15,
     "metadata": {},
     "output_type": "execute_result"
    }
   ],
   "source": [
    "2%3"
   ]
  },
  {
   "cell_type": "code",
   "execution_count": 16,
   "id": "c0536fd0",
   "metadata": {},
   "outputs": [
    {
     "data": {
      "text/plain": [
       "1"
      ]
     },
     "execution_count": 16,
     "metadata": {},
     "output_type": "execute_result"
    }
   ],
   "source": [
    "7%3"
   ]
  },
  {
   "cell_type": "code",
   "execution_count": 17,
   "id": "d801ce9d",
   "metadata": {},
   "outputs": [
    {
     "data": {
      "text/plain": [
       "3"
      ]
     },
     "execution_count": 17,
     "metadata": {},
     "output_type": "execute_result"
    }
   ],
   "source": [
    "13%5"
   ]
  },
  {
   "cell_type": "code",
   "execution_count": 18,
   "id": "86b43f89",
   "metadata": {},
   "outputs": [],
   "source": [
    "hi_ui_oiu=12.234"
   ]
  },
  {
   "cell_type": "code",
   "execution_count": 19,
   "id": "efb306c8",
   "metadata": {},
   "outputs": [
    {
     "data": {
      "text/plain": [
       "0.05250643776824034"
      ]
     },
     "execution_count": 19,
     "metadata": {},
     "output_type": "execute_result"
    }
   ],
   "source": [
    "hi_ui_oiu/233"
   ]
  },
  {
   "cell_type": "code",
   "execution_count": 20,
   "id": "83227835",
   "metadata": {},
   "outputs": [
    {
     "data": {
      "text/plain": [
       "'Lilo'"
      ]
     },
     "execution_count": 20,
     "metadata": {},
     "output_type": "execute_result"
    }
   ],
   "source": [
    "'Lilo'"
   ]
  },
  {
   "cell_type": "code",
   "execution_count": 21,
   "id": "64c63cc8",
   "metadata": {},
   "outputs": [
    {
     "data": {
      "text/plain": [
       "'Kilo'"
      ]
     },
     "execution_count": 21,
     "metadata": {},
     "output_type": "execute_result"
    }
   ],
   "source": [
    "\"Kilo\""
   ]
  },
  {
   "cell_type": "code",
   "execution_count": 22,
   "id": "1fa18566",
   "metadata": {},
   "outputs": [
    {
     "data": {
      "text/plain": [
       "\"I can't go\""
      ]
     },
     "execution_count": 22,
     "metadata": {},
     "output_type": "execute_result"
    }
   ],
   "source": [
    "'I can\\'t go'"
   ]
  },
  {
   "cell_type": "code",
   "execution_count": 23,
   "id": "5c930907",
   "metadata": {},
   "outputs": [],
   "source": [
    "x='hello'"
   ]
  },
  {
   "cell_type": "code",
   "execution_count": 24,
   "id": "02f049c2",
   "metadata": {},
   "outputs": [
    {
     "data": {
      "text/plain": [
       "'hello'"
      ]
     },
     "execution_count": 24,
     "metadata": {},
     "output_type": "execute_result"
    }
   ],
   "source": [
    "x"
   ]
  },
  {
   "cell_type": "code",
   "execution_count": 25,
   "id": "6235100f",
   "metadata": {},
   "outputs": [
    {
     "data": {
      "text/plain": [
       "'hello AMit'"
      ]
     },
     "execution_count": 25,
     "metadata": {},
     "output_type": "execute_result"
    }
   ],
   "source": [
    "x+' AMit'"
   ]
  },
  {
   "cell_type": "code",
   "execution_count": 26,
   "id": "8edaec05",
   "metadata": {},
   "outputs": [
    {
     "name": "stdout",
     "output_type": "stream",
     "text": [
      "hello\n"
     ]
    }
   ],
   "source": [
    "print(x)"
   ]
  },
  {
   "cell_type": "code",
   "execution_count": 27,
   "id": "58da330f",
   "metadata": {},
   "outputs": [
    {
     "name": "stdout",
     "output_type": "stream",
     "text": [
      "hello has nothing\n"
     ]
    }
   ],
   "source": [
    "print(f\"{x} has nothing\")"
   ]
  },
  {
   "cell_type": "code",
   "execution_count": 28,
   "id": "c659119a",
   "metadata": {},
   "outputs": [],
   "source": [
    "num=12\n",
    "name='Jaya'"
   ]
  },
  {
   "cell_type": "code",
   "execution_count": 29,
   "id": "88dc6657",
   "metadata": {},
   "outputs": [
    {
     "data": {
      "text/plain": [
       "'My uncdhj 12 is name Jaya'"
      ]
     },
     "execution_count": 29,
     "metadata": {},
     "output_type": "execute_result"
    }
   ],
   "source": [
    "'My uncdhj {} is name {}'.format(num,name)"
   ]
  },
  {
   "cell_type": "code",
   "execution_count": 30,
   "id": "d5dc6ebe",
   "metadata": {},
   "outputs": [
    {
     "name": "stdout",
     "output_type": "stream",
     "text": [
      "jdsf 12 and fuck this shit Jaya and more shit 12 common Jaya\n"
     ]
    }
   ],
   "source": [
    "print('jdsf {one} and fuck this shit {two} and more shit {one} common {two}'.format(one=num,two=name))"
   ]
  },
  {
   "cell_type": "code",
   "execution_count": 31,
   "id": "129329d0",
   "metadata": {},
   "outputs": [],
   "source": [
    "s='hello'"
   ]
  },
  {
   "cell_type": "code",
   "execution_count": 32,
   "id": "f374f8e6",
   "metadata": {},
   "outputs": [
    {
     "data": {
      "text/plain": [
       "'h'"
      ]
     },
     "execution_count": 32,
     "metadata": {},
     "output_type": "execute_result"
    }
   ],
   "source": [
    "s[0]"
   ]
  },
  {
   "cell_type": "code",
   "execution_count": 33,
   "id": "c02624d6",
   "metadata": {},
   "outputs": [
    {
     "data": {
      "text/plain": [
       "'o'"
      ]
     },
     "execution_count": 33,
     "metadata": {},
     "output_type": "execute_result"
    }
   ],
   "source": [
    "s[-1]"
   ]
  },
  {
   "cell_type": "code",
   "execution_count": 34,
   "id": "8ed24165",
   "metadata": {},
   "outputs": [
    {
     "data": {
      "text/plain": [
       "'olleh'"
      ]
     },
     "execution_count": 34,
     "metadata": {},
     "output_type": "execute_result"
    }
   ],
   "source": [
    "s[::-1]"
   ]
  },
  {
   "cell_type": "code",
   "execution_count": 35,
   "id": "a50905aa",
   "metadata": {},
   "outputs": [
    {
     "data": {
      "text/plain": [
       "'e'"
      ]
     },
     "execution_count": 35,
     "metadata": {},
     "output_type": "execute_result"
    }
   ],
   "source": [
    "s[1:2:2]"
   ]
  },
  {
   "cell_type": "code",
   "execution_count": 36,
   "id": "d215dea0",
   "metadata": {},
   "outputs": [
    {
     "data": {
      "text/plain": [
       "'el'"
      ]
     },
     "execution_count": 36,
     "metadata": {},
     "output_type": "execute_result"
    }
   ],
   "source": [
    "s[1:6:2]"
   ]
  },
  {
   "cell_type": "code",
   "execution_count": 37,
   "id": "905d6719",
   "metadata": {},
   "outputs": [],
   "source": [
    "a=[1,2,3]"
   ]
  },
  {
   "cell_type": "code",
   "execution_count": 38,
   "id": "a7af9221",
   "metadata": {},
   "outputs": [
    {
     "data": {
      "text/plain": [
       "[1, 2, 3]"
      ]
     },
     "execution_count": 38,
     "metadata": {},
     "output_type": "execute_result"
    }
   ],
   "source": [
    "a"
   ]
  },
  {
   "cell_type": "code",
   "execution_count": 39,
   "id": "9e69108d",
   "metadata": {},
   "outputs": [],
   "source": [
    "a.append(4)"
   ]
  },
  {
   "cell_type": "code",
   "execution_count": 40,
   "id": "a25b35a7",
   "metadata": {},
   "outputs": [
    {
     "data": {
      "text/plain": [
       "[1, 2, 3, 4]"
      ]
     },
     "execution_count": 40,
     "metadata": {},
     "output_type": "execute_result"
    }
   ],
   "source": [
    "a"
   ]
  },
  {
   "cell_type": "code",
   "execution_count": 41,
   "id": "ecaf5eb2",
   "metadata": {},
   "outputs": [
    {
     "data": {
      "text/plain": [
       "4"
      ]
     },
     "execution_count": 41,
     "metadata": {},
     "output_type": "execute_result"
    }
   ],
   "source": [
    "a[-1]"
   ]
  },
  {
   "cell_type": "code",
   "execution_count": 42,
   "id": "255f4b6e",
   "metadata": {},
   "outputs": [
    {
     "data": {
      "text/plain": [
       "[4, 3, 2, 1]"
      ]
     },
     "execution_count": 42,
     "metadata": {},
     "output_type": "execute_result"
    }
   ],
   "source": [
    "a[::-1]"
   ]
  },
  {
   "cell_type": "code",
   "execution_count": 43,
   "id": "bb0b9f14",
   "metadata": {},
   "outputs": [
    {
     "data": {
      "text/plain": [
       "4"
      ]
     },
     "execution_count": 43,
     "metadata": {},
     "output_type": "execute_result"
    }
   ],
   "source": [
    "a.pop(3)"
   ]
  },
  {
   "cell_type": "code",
   "execution_count": 44,
   "id": "2138ed53",
   "metadata": {},
   "outputs": [
    {
     "data": {
      "text/plain": [
       "[1, 2, 3]"
      ]
     },
     "execution_count": 44,
     "metadata": {},
     "output_type": "execute_result"
    }
   ],
   "source": [
    "a"
   ]
  },
  {
   "cell_type": "code",
   "execution_count": null,
   "id": "61762ca0",
   "metadata": {},
   "outputs": [],
   "source": []
  },
  {
   "cell_type": "code",
   "execution_count": 45,
   "id": "e3c0e833",
   "metadata": {},
   "outputs": [],
   "source": [
    "a.append(4)"
   ]
  },
  {
   "cell_type": "code",
   "execution_count": 46,
   "id": "03e727bb",
   "metadata": {},
   "outputs": [],
   "source": [
    "a.append(5)"
   ]
  },
  {
   "cell_type": "code",
   "execution_count": 47,
   "id": "9dd246f4",
   "metadata": {},
   "outputs": [
    {
     "data": {
      "text/plain": [
       "[1, 2, 3, 4, 5]"
      ]
     },
     "execution_count": 47,
     "metadata": {},
     "output_type": "execute_result"
    }
   ],
   "source": [
    "a"
   ]
  },
  {
   "cell_type": "code",
   "execution_count": 48,
   "id": "b1acd293",
   "metadata": {},
   "outputs": [],
   "source": [
    "b=[1,2,[4,5]]"
   ]
  },
  {
   "cell_type": "code",
   "execution_count": 49,
   "id": "59690968",
   "metadata": {},
   "outputs": [
    {
     "data": {
      "text/plain": [
       "5"
      ]
     },
     "execution_count": 49,
     "metadata": {},
     "output_type": "execute_result"
    }
   ],
   "source": [
    "b[2][1]"
   ]
  },
  {
   "cell_type": "code",
   "execution_count": 50,
   "id": "35a1a40d",
   "metadata": {},
   "outputs": [
    {
     "data": {
      "text/plain": [
       "4"
      ]
     },
     "execution_count": 50,
     "metadata": {},
     "output_type": "execute_result"
    }
   ],
   "source": [
    "b[2][0]"
   ]
  },
  {
   "cell_type": "code",
   "execution_count": 51,
   "id": "076305b3",
   "metadata": {},
   "outputs": [],
   "source": [
    "d={'key1':'value','key2':123}"
   ]
  },
  {
   "cell_type": "code",
   "execution_count": 52,
   "id": "88d54ef8",
   "metadata": {},
   "outputs": [
    {
     "data": {
      "text/plain": [
       "123"
      ]
     },
     "execution_count": 52,
     "metadata": {},
     "output_type": "execute_result"
    }
   ],
   "source": [
    "d['key2']"
   ]
  },
  {
   "cell_type": "code",
   "execution_count": 53,
   "id": "6c2da019",
   "metadata": {},
   "outputs": [
    {
     "data": {
      "text/plain": [
       "dict_values(['value', 123])"
      ]
     },
     "execution_count": 53,
     "metadata": {},
     "output_type": "execute_result"
    }
   ],
   "source": [
    "d.values()"
   ]
  },
  {
   "cell_type": "code",
   "execution_count": 54,
   "id": "d2d0626b",
   "metadata": {},
   "outputs": [
    {
     "data": {
      "text/plain": [
       "dict_keys(['key1', 'key2'])"
      ]
     },
     "execution_count": 54,
     "metadata": {},
     "output_type": "execute_result"
    }
   ],
   "source": [
    "d.keys()"
   ]
  },
  {
   "cell_type": "code",
   "execution_count": 55,
   "id": "be0eb250",
   "metadata": {},
   "outputs": [],
   "source": [
    "d={'k1':{'innerKey':'Name','iot':2.342},'asdk':'Patna'}"
   ]
  },
  {
   "cell_type": "code",
   "execution_count": 56,
   "id": "11e8da05",
   "metadata": {},
   "outputs": [
    {
     "data": {
      "text/plain": [
       "2.342"
      ]
     },
     "execution_count": 56,
     "metadata": {},
     "output_type": "execute_result"
    }
   ],
   "source": [
    "d['k1']['iot']"
   ]
  },
  {
   "cell_type": "code",
   "execution_count": 57,
   "id": "fa100296",
   "metadata": {},
   "outputs": [
    {
     "data": {
      "text/plain": [
       "'Patna'"
      ]
     },
     "execution_count": 57,
     "metadata": {},
     "output_type": "execute_result"
    }
   ],
   "source": [
    "d['asdk']"
   ]
  },
  {
   "cell_type": "code",
   "execution_count": 58,
   "id": "a559d8d0",
   "metadata": {},
   "outputs": [],
   "source": [
    "d['k1']['innerKey']=['Aliya','Poliya','Chulia']"
   ]
  },
  {
   "cell_type": "code",
   "execution_count": 59,
   "id": "492aa44f",
   "metadata": {},
   "outputs": [
    {
     "data": {
      "text/plain": [
       "{'k1': {'innerKey': ['Aliya', 'Poliya', 'Chulia'], 'iot': 2.342},\n",
       " 'asdk': 'Patna'}"
      ]
     },
     "execution_count": 59,
     "metadata": {},
     "output_type": "execute_result"
    }
   ],
   "source": [
    "d"
   ]
  },
  {
   "cell_type": "code",
   "execution_count": 60,
   "id": "8895db39",
   "metadata": {},
   "outputs": [
    {
     "data": {
      "text/plain": [
       "'Chulia'"
      ]
     },
     "execution_count": 60,
     "metadata": {},
     "output_type": "execute_result"
    }
   ],
   "source": [
    "d['k1']['innerKey'][-1]"
   ]
  },
  {
   "cell_type": "code",
   "execution_count": 61,
   "id": "fc99d54e",
   "metadata": {},
   "outputs": [],
   "source": [
    "t=(1,23,22)"
   ]
  },
  {
   "cell_type": "code",
   "execution_count": 62,
   "id": "caa258d8",
   "metadata": {},
   "outputs": [
    {
     "data": {
      "text/plain": [
       "(1, 23, 22)"
      ]
     },
     "execution_count": 62,
     "metadata": {},
     "output_type": "execute_result"
    }
   ],
   "source": [
    "t"
   ]
  },
  {
   "cell_type": "code",
   "execution_count": 63,
   "id": "499ea82d",
   "metadata": {},
   "outputs": [
    {
     "ename": "TypeError",
     "evalue": "'tuple' object is not callable",
     "output_type": "error",
     "traceback": [
      "\u001b[0;31m---------------------------------------------------------------------------\u001b[0m",
      "\u001b[0;31mTypeError\u001b[0m                                 Traceback (most recent call last)",
      "Input \u001b[0;32mIn [63]\u001b[0m, in \u001b[0;36m<cell line: 1>\u001b[0;34m()\u001b[0m\n\u001b[0;32m----> 1\u001b[0m \u001b[43mt\u001b[49m\u001b[43m(\u001b[49m\u001b[38;5;241;43m-\u001b[39;49m\u001b[38;5;241;43m1\u001b[39;49m\u001b[43m)\u001b[49m\n",
      "\u001b[0;31mTypeError\u001b[0m: 'tuple' object is not callable"
     ]
    }
   ],
   "source": [
    "t(-1)"
   ]
  },
  {
   "cell_type": "code",
   "execution_count": 64,
   "id": "c6f5955d",
   "metadata": {},
   "outputs": [
    {
     "ename": "TypeError",
     "evalue": "'tuple' object is not callable",
     "output_type": "error",
     "traceback": [
      "\u001b[0;31m---------------------------------------------------------------------------\u001b[0m",
      "\u001b[0;31mTypeError\u001b[0m                                 Traceback (most recent call last)",
      "Input \u001b[0;32mIn [64]\u001b[0m, in \u001b[0;36m<cell line: 1>\u001b[0;34m()\u001b[0m\n\u001b[0;32m----> 1\u001b[0m \u001b[43mt\u001b[49m\u001b[43m(\u001b[49m\u001b[38;5;241;43m1\u001b[39;49m\u001b[43m)\u001b[49m\n",
      "\u001b[0;31mTypeError\u001b[0m: 'tuple' object is not callable"
     ]
    }
   ],
   "source": [
    "t(1)"
   ]
  },
  {
   "cell_type": "code",
   "execution_count": 65,
   "id": "6ba5dfc5",
   "metadata": {},
   "outputs": [
    {
     "data": {
      "text/plain": [
       "1"
      ]
     },
     "execution_count": 65,
     "metadata": {},
     "output_type": "execute_result"
    }
   ],
   "source": [
    "t[0]"
   ]
  },
  {
   "cell_type": "code",
   "execution_count": 66,
   "id": "ac810840",
   "metadata": {},
   "outputs": [
    {
     "data": {
      "text/plain": [
       "22"
      ]
     },
     "execution_count": 66,
     "metadata": {},
     "output_type": "execute_result"
    }
   ],
   "source": [
    "t[-1]"
   ]
  },
  {
   "cell_type": "code",
   "execution_count": 67,
   "id": "d50ed35e",
   "metadata": {},
   "outputs": [],
   "source": [
    "t=(2,2,3,4,5,4,5,4,1,1,1)"
   ]
  },
  {
   "cell_type": "code",
   "execution_count": 68,
   "id": "f12888a0",
   "metadata": {},
   "outputs": [
    {
     "data": {
      "text/plain": [
       "(2, 2, 3, 4, 5, 4, 5, 4, 1, 1, 1)"
      ]
     },
     "execution_count": 68,
     "metadata": {},
     "output_type": "execute_result"
    }
   ],
   "source": [
    "t"
   ]
  },
  {
   "cell_type": "code",
   "execution_count": 69,
   "id": "e8ca48be",
   "metadata": {},
   "outputs": [],
   "source": [
    "m=set(t)"
   ]
  },
  {
   "cell_type": "code",
   "execution_count": 70,
   "id": "3db9d8f4",
   "metadata": {},
   "outputs": [
    {
     "data": {
      "text/plain": [
       "{1, 2, 3, 4, 5}"
      ]
     },
     "execution_count": 70,
     "metadata": {},
     "output_type": "execute_result"
    }
   ],
   "source": [
    "m"
   ]
  },
  {
   "cell_type": "code",
   "execution_count": 71,
   "id": "a0f437ea",
   "metadata": {},
   "outputs": [],
   "source": [
    "s=set([1,1,1,1,4,2,3,2,4,2,3,2])"
   ]
  },
  {
   "cell_type": "code",
   "execution_count": 72,
   "id": "3668b504",
   "metadata": {},
   "outputs": [
    {
     "data": {
      "text/plain": [
       "{1, 2, 3, 4}"
      ]
     },
     "execution_count": 72,
     "metadata": {},
     "output_type": "execute_result"
    }
   ],
   "source": [
    "s"
   ]
  },
  {
   "cell_type": "code",
   "execution_count": 73,
   "id": "6624d0ba",
   "metadata": {},
   "outputs": [],
   "source": [
    "s.add(6)"
   ]
  },
  {
   "cell_type": "code",
   "execution_count": 74,
   "id": "031eb26a",
   "metadata": {},
   "outputs": [
    {
     "data": {
      "text/plain": [
       "{1, 2, 3, 4, 6}"
      ]
     },
     "execution_count": 74,
     "metadata": {},
     "output_type": "execute_result"
    }
   ],
   "source": [
    "s"
   ]
  },
  {
   "cell_type": "code",
   "execution_count": 75,
   "id": "a122182f",
   "metadata": {},
   "outputs": [
    {
     "ename": "TypeError",
     "evalue": "'set' object is not subscriptable",
     "output_type": "error",
     "traceback": [
      "\u001b[0;31m---------------------------------------------------------------------------\u001b[0m",
      "\u001b[0;31mTypeError\u001b[0m                                 Traceback (most recent call last)",
      "Input \u001b[0;32mIn [75]\u001b[0m, in \u001b[0;36m<cell line: 1>\u001b[0;34m()\u001b[0m\n\u001b[0;32m----> 1\u001b[0m \u001b[43ms\u001b[49m\u001b[43m[\u001b[49m\u001b[38;5;241;43m0\u001b[39;49m\u001b[43m]\u001b[49m\n",
      "\u001b[0;31mTypeError\u001b[0m: 'set' object is not subscriptable"
     ]
    }
   ],
   "source": [
    "s[0]"
   ]
  },
  {
   "cell_type": "code",
   "execution_count": 76,
   "id": "f98a3fbb",
   "metadata": {},
   "outputs": [
    {
     "ename": "TypeError",
     "evalue": "'set' object is not callable",
     "output_type": "error",
     "traceback": [
      "\u001b[0;31m---------------------------------------------------------------------------\u001b[0m",
      "\u001b[0;31mTypeError\u001b[0m                                 Traceback (most recent call last)",
      "Input \u001b[0;32mIn [76]\u001b[0m, in \u001b[0;36m<cell line: 1>\u001b[0;34m()\u001b[0m\n\u001b[0;32m----> 1\u001b[0m \u001b[43ms\u001b[49m\u001b[43m(\u001b[49m\u001b[38;5;241;43m2\u001b[39;49m\u001b[43m)\u001b[49m\n",
      "\u001b[0;31mTypeError\u001b[0m: 'set' object is not callable"
     ]
    }
   ],
   "source": [
    "s(2)"
   ]
  },
  {
   "cell_type": "code",
   "execution_count": 77,
   "id": "d24c3418",
   "metadata": {},
   "outputs": [
    {
     "data": {
      "text/plain": [
       "{1, 2, 3, 4, 6}"
      ]
     },
     "execution_count": 77,
     "metadata": {},
     "output_type": "execute_result"
    }
   ],
   "source": [
    "s"
   ]
  },
  {
   "cell_type": "code",
   "execution_count": 78,
   "id": "fb924f61",
   "metadata": {},
   "outputs": [
    {
     "ename": "SyntaxError",
     "evalue": "cannot assign to literal (1748595019.py, line 1)",
     "output_type": "error",
     "traceback": [
      "\u001b[0;36m  Input \u001b[0;32mIn [78]\u001b[0;36m\u001b[0m\n\u001b[0;31m    1=1\u001b[0m\n\u001b[0m    ^\u001b[0m\n\u001b[0;31mSyntaxError\u001b[0m\u001b[0;31m:\u001b[0m cannot assign to literal\n"
     ]
    }
   ],
   "source": [
    "1=1"
   ]
  },
  {
   "cell_type": "code",
   "execution_count": 79,
   "id": "47b7bc5f",
   "metadata": {},
   "outputs": [
    {
     "data": {
      "text/plain": [
       "True"
      ]
     },
     "execution_count": 79,
     "metadata": {},
     "output_type": "execute_result"
    }
   ],
   "source": [
    "1==1"
   ]
  },
  {
   "cell_type": "code",
   "execution_count": 80,
   "id": "82f6cecd",
   "metadata": {},
   "outputs": [
    {
     "data": {
      "text/plain": [
       "True"
      ]
     },
     "execution_count": 80,
     "metadata": {},
     "output_type": "execute_result"
    }
   ],
   "source": [
    "1!=2"
   ]
  },
  {
   "cell_type": "code",
   "execution_count": 81,
   "id": "8ba89ce8",
   "metadata": {},
   "outputs": [
    {
     "data": {
      "text/plain": [
       "True"
      ]
     },
     "execution_count": 81,
     "metadata": {},
     "output_type": "execute_result"
    }
   ],
   "source": [
    "'hi'=='hi'"
   ]
  },
  {
   "cell_type": "code",
   "execution_count": 82,
   "id": "e6699e89",
   "metadata": {},
   "outputs": [
    {
     "data": {
      "text/plain": [
       "True"
      ]
     },
     "execution_count": 82,
     "metadata": {},
     "output_type": "execute_result"
    }
   ],
   "source": [
    "'hi'!='bi'"
   ]
  },
  {
   "cell_type": "code",
   "execution_count": 83,
   "id": "7b8b1deb",
   "metadata": {},
   "outputs": [
    {
     "data": {
      "text/plain": [
       "True"
      ]
     },
     "execution_count": 83,
     "metadata": {},
     "output_type": "execute_result"
    }
   ],
   "source": [
    "1<2 and 2<3"
   ]
  },
  {
   "cell_type": "code",
   "execution_count": 84,
   "id": "e5918809",
   "metadata": {},
   "outputs": [
    {
     "data": {
      "text/plain": [
       "False"
      ]
     },
     "execution_count": 84,
     "metadata": {},
     "output_type": "execute_result"
    }
   ],
   "source": [
    "1<2 and 2>3"
   ]
  },
  {
   "cell_type": "code",
   "execution_count": 85,
   "id": "d0ca1715",
   "metadata": {},
   "outputs": [
    {
     "data": {
      "text/plain": [
       "True"
      ]
     },
     "execution_count": 85,
     "metadata": {},
     "output_type": "execute_result"
    }
   ],
   "source": [
    "1<2 or 2>3"
   ]
  },
  {
   "cell_type": "code",
   "execution_count": 86,
   "id": "0c18523a",
   "metadata": {},
   "outputs": [
    {
     "name": "stdout",
     "output_type": "stream",
     "text": [
      "ho gaya ab mara BoseDK\n"
     ]
    }
   ],
   "source": [
    "if 5>4:\n",
    "    print('ho gaya ab mara BoseDK')"
   ]
  },
  {
   "cell_type": "code",
   "execution_count": 87,
   "id": "a6395e97",
   "metadata": {},
   "outputs": [
    {
     "name": "stdout",
     "output_type": "stream",
     "text": [
      "False\n"
     ]
    }
   ],
   "source": [
    "if True:\n",
    "    print(1>2)"
   ]
  },
  {
   "cell_type": "code",
   "execution_count": 88,
   "id": "281bdf75",
   "metadata": {},
   "outputs": [
    {
     "name": "stdout",
     "output_type": "stream",
     "text": [
      "Chala\n"
     ]
    }
   ],
   "source": [
    "if 1==2:\n",
    "    print('jio')\n",
    "elif 2.2==2.2:\n",
    "    print('Chala')\n",
    "else:\n",
    "    print('nope')"
   ]
  },
  {
   "cell_type": "code",
   "execution_count": 89,
   "id": "4a8155b4",
   "metadata": {},
   "outputs": [],
   "source": [
    "seq=[1,2,3,4,5]"
   ]
  },
  {
   "cell_type": "code",
   "execution_count": 90,
   "id": "607de5d8",
   "metadata": {},
   "outputs": [
    {
     "data": {
      "text/plain": [
       "[1, 2, 3, 4, 5]"
      ]
     },
     "execution_count": 90,
     "metadata": {},
     "output_type": "execute_result"
    }
   ],
   "source": [
    "seq"
   ]
  },
  {
   "cell_type": "code",
   "execution_count": 91,
   "id": "35284982",
   "metadata": {},
   "outputs": [
    {
     "name": "stdout",
     "output_type": "stream",
     "text": [
      "1\n",
      "2\n",
      "3\n",
      "4\n",
      "5\n"
     ]
    }
   ],
   "source": [
    "for i in seq:\n",
    "    print(i)"
   ]
  },
  {
   "cell_type": "code",
   "execution_count": 92,
   "id": "ade6af82",
   "metadata": {},
   "outputs": [
    {
     "name": "stdout",
     "output_type": "stream",
     "text": [
      "hello\n",
      "hello\n",
      "hello\n",
      "hello\n",
      "hello\n"
     ]
    }
   ],
   "source": [
    "for st in seq:\n",
    "    print('hello')"
   ]
  },
  {
   "cell_type": "code",
   "execution_count": 93,
   "id": "cc4ca771",
   "metadata": {},
   "outputs": [
    {
     "name": "stdout",
     "output_type": "stream",
     "text": [
      "i is :1\n",
      "i is :2\n",
      "i is :3\n",
      "i is :4\n"
     ]
    }
   ],
   "source": [
    "i=1\n",
    "while i<5:\n",
    "    print('i is :{}'.format(i))\n",
    "    i=i+1"
   ]
  },
  {
   "cell_type": "code",
   "execution_count": 95,
   "id": "43e6ce95",
   "metadata": {},
   "outputs": [
    {
     "name": "stdout",
     "output_type": "stream",
     "text": [
      "0\n",
      "1\n",
      "2\n",
      "3\n",
      "4\n"
     ]
    }
   ],
   "source": [
    "for x in range(0,5):\n",
    "    print(x)"
   ]
  },
  {
   "cell_type": "code",
   "execution_count": 96,
   "id": "4cf8e80c",
   "metadata": {},
   "outputs": [
    {
     "data": {
      "text/plain": [
       "[0, 1, 2, 3, 4, 5, 6, 7, 8, 9]"
      ]
     },
     "execution_count": 96,
     "metadata": {},
     "output_type": "execute_result"
    }
   ],
   "source": [
    "list(range(10))"
   ]
  },
  {
   "cell_type": "code",
   "execution_count": 98,
   "id": "17282340",
   "metadata": {},
   "outputs": [],
   "source": [
    "x=[1,2,3,4]"
   ]
  },
  {
   "cell_type": "code",
   "execution_count": 99,
   "id": "7542ff1b",
   "metadata": {},
   "outputs": [],
   "source": [
    "out=[i**2 for i in x]"
   ]
  },
  {
   "cell_type": "code",
   "execution_count": 100,
   "id": "7ec3a7c8",
   "metadata": {},
   "outputs": [
    {
     "data": {
      "text/plain": [
       "[1, 4, 9, 16]"
      ]
     },
     "execution_count": 100,
     "metadata": {},
     "output_type": "execute_result"
    }
   ],
   "source": [
    "out"
   ]
  },
  {
   "cell_type": "code",
   "execution_count": 101,
   "id": "d10053ff",
   "metadata": {},
   "outputs": [],
   "source": [
    "def add(a,b):\n",
    "    return a+b"
   ]
  },
  {
   "cell_type": "code",
   "execution_count": 102,
   "id": "a2557802",
   "metadata": {},
   "outputs": [
    {
     "data": {
      "text/plain": [
       "3"
      ]
     },
     "execution_count": 102,
     "metadata": {},
     "output_type": "execute_result"
    }
   ],
   "source": [
    "add(1,2)"
   ]
  },
  {
   "cell_type": "code",
   "execution_count": 103,
   "id": "dcbd7006",
   "metadata": {},
   "outputs": [
    {
     "data": {
      "text/plain": [
       "12.370000000000001"
      ]
     },
     "execution_count": 103,
     "metadata": {},
     "output_type": "execute_result"
    }
   ],
   "source": [
    "add(9.23,3.14)"
   ]
  },
  {
   "cell_type": "code",
   "execution_count": 104,
   "id": "74adf8a9",
   "metadata": {},
   "outputs": [],
   "source": [
    "def times2(var):\n",
    "    return var*2"
   ]
  },
  {
   "cell_type": "code",
   "execution_count": 105,
   "id": "172ce5fa",
   "metadata": {},
   "outputs": [
    {
     "data": {
      "text/plain": [
       "10"
      ]
     },
     "execution_count": 105,
     "metadata": {},
     "output_type": "execute_result"
    }
   ],
   "source": [
    "times2(5)"
   ]
  },
  {
   "cell_type": "code",
   "execution_count": 107,
   "id": "d99ce83b",
   "metadata": {},
   "outputs": [],
   "source": [
    "seq=[1,2,3,4,5]"
   ]
  },
  {
   "cell_type": "code",
   "execution_count": 112,
   "id": "5542fc69",
   "metadata": {},
   "outputs": [],
   "source": [
    "l=list(map(times2,seq))"
   ]
  },
  {
   "cell_type": "code",
   "execution_count": 113,
   "id": "ecfc6dc5",
   "metadata": {},
   "outputs": [
    {
     "data": {
      "text/plain": [
       "[2, 4, 6, 8, 10]"
      ]
     },
     "execution_count": 113,
     "metadata": {},
     "output_type": "execute_result"
    }
   ],
   "source": [
    "l"
   ]
  },
  {
   "cell_type": "code",
   "execution_count": 115,
   "id": "86ee51a4",
   "metadata": {},
   "outputs": [],
   "source": [
    "t=lambda v:v**2"
   ]
  },
  {
   "cell_type": "code",
   "execution_count": 119,
   "id": "b9e3a18f",
   "metadata": {},
   "outputs": [
    {
     "data": {
      "text/plain": [
       "64"
      ]
     },
     "execution_count": 119,
     "metadata": {},
     "output_type": "execute_result"
    }
   ],
   "source": [
    "t(4)\n",
    "t(6)\n",
    "t(8)"
   ]
  },
  {
   "cell_type": "code",
   "execution_count": 120,
   "id": "719c80cb",
   "metadata": {},
   "outputs": [],
   "source": [
    "g=list(map(lambda i:i*4/7,seq))"
   ]
  },
  {
   "cell_type": "code",
   "execution_count": 121,
   "id": "e216f4dc",
   "metadata": {},
   "outputs": [
    {
     "data": {
      "text/plain": [
       "[0.5714285714285714,\n",
       " 1.1428571428571428,\n",
       " 1.7142857142857142,\n",
       " 2.2857142857142856,\n",
       " 2.857142857142857]"
      ]
     },
     "execution_count": 121,
     "metadata": {},
     "output_type": "execute_result"
    }
   ],
   "source": [
    "g"
   ]
  },
  {
   "cell_type": "code",
   "execution_count": 122,
   "id": "ff807142",
   "metadata": {},
   "outputs": [
    {
     "data": {
      "text/plain": [
       "[2, 4]"
      ]
     },
     "execution_count": 122,
     "metadata": {},
     "output_type": "execute_result"
    }
   ],
   "source": [
    "list(filter(lambda num:num%2==0,seq))"
   ]
  },
  {
   "cell_type": "code",
   "execution_count": 123,
   "id": "78288348",
   "metadata": {},
   "outputs": [],
   "source": [
    "s='hello my name is Sam'"
   ]
  },
  {
   "cell_type": "code",
   "execution_count": 124,
   "id": "19b3184e",
   "metadata": {},
   "outputs": [
    {
     "data": {
      "text/plain": [
       "'hello my name is sam'"
      ]
     },
     "execution_count": 124,
     "metadata": {},
     "output_type": "execute_result"
    }
   ],
   "source": [
    "s.lower()"
   ]
  },
  {
   "cell_type": "code",
   "execution_count": 125,
   "id": "de41586e",
   "metadata": {},
   "outputs": [
    {
     "data": {
      "text/plain": [
       "'HELLO MY NAME IS SAM'"
      ]
     },
     "execution_count": 125,
     "metadata": {},
     "output_type": "execute_result"
    }
   ],
   "source": [
    "s.upper()"
   ]
  },
  {
   "cell_type": "code",
   "execution_count": 126,
   "id": "d5cdc15c",
   "metadata": {},
   "outputs": [
    {
     "data": {
      "text/plain": [
       "'Hello my name is sam'"
      ]
     },
     "execution_count": 126,
     "metadata": {},
     "output_type": "execute_result"
    }
   ],
   "source": [
    "s.capitalize()"
   ]
  },
  {
   "cell_type": "code",
   "execution_count": 127,
   "id": "0273feea",
   "metadata": {},
   "outputs": [
    {
     "data": {
      "text/plain": [
       "['hello', 'my', 'name', 'is', 'Sam']"
      ]
     },
     "execution_count": 127,
     "metadata": {},
     "output_type": "execute_result"
    }
   ],
   "source": [
    "s.split()"
   ]
  },
  {
   "cell_type": "code",
   "execution_count": 128,
   "id": "7ab14aa0",
   "metadata": {},
   "outputs": [
    {
     "data": {
      "text/plain": [
       "['hello', 'my', 'name', 'is', 'Sam']"
      ]
     },
     "execution_count": 128,
     "metadata": {},
     "output_type": "execute_result"
    }
   ],
   "source": [
    "s.split()"
   ]
  },
  {
   "cell_type": "code",
   "execution_count": 129,
   "id": "438db2f2",
   "metadata": {},
   "outputs": [],
   "source": [
    "tweet='Go sports! #sports #lol #sex'"
   ]
  },
  {
   "cell_type": "code",
   "execution_count": 130,
   "id": "5336e98d",
   "metadata": {},
   "outputs": [
    {
     "data": {
      "text/plain": [
       "['Go sports! ', 'sports ', 'lol ', 'sex']"
      ]
     },
     "execution_count": 130,
     "metadata": {},
     "output_type": "execute_result"
    }
   ],
   "source": [
    "tweet.split('#')"
   ]
  },
  {
   "cell_type": "code",
   "execution_count": 131,
   "id": "b7ca0b82",
   "metadata": {},
   "outputs": [],
   "source": [
    "d={'k1':1,'k2':2}"
   ]
  },
  {
   "cell_type": "code",
   "execution_count": 132,
   "id": "e9bc8925",
   "metadata": {},
   "outputs": [
    {
     "data": {
      "text/plain": [
       "dict_keys(['k1', 'k2'])"
      ]
     },
     "execution_count": 132,
     "metadata": {},
     "output_type": "execute_result"
    }
   ],
   "source": [
    "d.keys()"
   ]
  },
  {
   "cell_type": "code",
   "execution_count": 133,
   "id": "04d508ce",
   "metadata": {},
   "outputs": [
    {
     "data": {
      "text/plain": [
       "dict_items([('k1', 1), ('k2', 2)])"
      ]
     },
     "execution_count": 133,
     "metadata": {},
     "output_type": "execute_result"
    }
   ],
   "source": [
    "d.items()"
   ]
  },
  {
   "cell_type": "code",
   "execution_count": 134,
   "id": "295ffed3",
   "metadata": {},
   "outputs": [
    {
     "data": {
      "text/plain": [
       "dict_values([1, 2])"
      ]
     },
     "execution_count": 134,
     "metadata": {},
     "output_type": "execute_result"
    }
   ],
   "source": [
    "d.values()"
   ]
  },
  {
   "cell_type": "code",
   "execution_count": 135,
   "id": "ed57d840",
   "metadata": {},
   "outputs": [],
   "source": [
    "lst=[1,2,3]"
   ]
  },
  {
   "cell_type": "code",
   "execution_count": 137,
   "id": "227682ff",
   "metadata": {},
   "outputs": [],
   "source": [
    "lst.remove(2)"
   ]
  },
  {
   "cell_type": "code",
   "execution_count": 138,
   "id": "6c65a7fa",
   "metadata": {},
   "outputs": [
    {
     "data": {
      "text/plain": [
       "[1, 3]"
      ]
     },
     "execution_count": 138,
     "metadata": {},
     "output_type": "execute_result"
    }
   ],
   "source": [
    "lst"
   ]
  },
  {
   "cell_type": "code",
   "execution_count": 139,
   "id": "62549592",
   "metadata": {},
   "outputs": [
    {
     "data": {
      "text/plain": [
       "1"
      ]
     },
     "execution_count": 139,
     "metadata": {},
     "output_type": "execute_result"
    }
   ],
   "source": [
    "lst.pop(0)"
   ]
  },
  {
   "cell_type": "code",
   "execution_count": 140,
   "id": "7ef1e94d",
   "metadata": {},
   "outputs": [
    {
     "data": {
      "text/plain": [
       "[3]"
      ]
     },
     "execution_count": 140,
     "metadata": {},
     "output_type": "execute_result"
    }
   ],
   "source": [
    "lst"
   ]
  },
  {
   "cell_type": "code",
   "execution_count": 141,
   "id": "0290d5c5",
   "metadata": {},
   "outputs": [],
   "source": [
    "lst[0:3]=[1,2,3,4]"
   ]
  },
  {
   "cell_type": "code",
   "execution_count": 142,
   "id": "8900588d",
   "metadata": {},
   "outputs": [
    {
     "data": {
      "text/plain": [
       "[1, 2, 3, 4]"
      ]
     },
     "execution_count": 142,
     "metadata": {},
     "output_type": "execute_result"
    }
   ],
   "source": [
    "lst"
   ]
  },
  {
   "cell_type": "code",
   "execution_count": 143,
   "id": "d3eb9173",
   "metadata": {},
   "outputs": [
    {
     "data": {
      "text/plain": [
       "True"
      ]
     },
     "execution_count": 143,
     "metadata": {},
     "output_type": "execute_result"
    }
   ],
   "source": [
    "2 in lst"
   ]
  },
  {
   "cell_type": "code",
   "execution_count": 144,
   "id": "1c503fa9",
   "metadata": {},
   "outputs": [
    {
     "data": {
      "text/plain": [
       "False"
      ]
     },
     "execution_count": 144,
     "metadata": {},
     "output_type": "execute_result"
    }
   ],
   "source": [
    "'x' in lst"
   ]
  },
  {
   "cell_type": "code",
   "execution_count": 145,
   "id": "a705cb71",
   "metadata": {},
   "outputs": [],
   "source": [
    "x=[(1,2),(3,4)]"
   ]
  },
  {
   "cell_type": "code",
   "execution_count": 146,
   "id": "a8a8a2c9",
   "metadata": {},
   "outputs": [
    {
     "data": {
      "text/plain": [
       "[(1, 2), (3, 4)]"
      ]
     },
     "execution_count": 146,
     "metadata": {},
     "output_type": "execute_result"
    }
   ],
   "source": [
    "x"
   ]
  },
  {
   "cell_type": "code",
   "execution_count": 147,
   "id": "8e5ace99",
   "metadata": {},
   "outputs": [
    {
     "data": {
      "text/plain": [
       "1"
      ]
     },
     "execution_count": 147,
     "metadata": {},
     "output_type": "execute_result"
    }
   ],
   "source": [
    "x[0][0]"
   ]
  },
  {
   "cell_type": "code",
   "execution_count": 148,
   "id": "92b78c57",
   "metadata": {},
   "outputs": [
    {
     "name": "stdout",
     "output_type": "stream",
     "text": [
      "(1, 2)\n",
      "(3, 4)\n"
     ]
    }
   ],
   "source": [
    "for item in x:\n",
    "    print(item)"
   ]
  },
  {
   "cell_type": "code",
   "execution_count": 149,
   "id": "d7acb3ec",
   "metadata": {},
   "outputs": [
    {
     "name": "stdout",
     "output_type": "stream",
     "text": [
      "2\n",
      "4\n"
     ]
    }
   ],
   "source": [
    "for (a,b) in x:\n",
    "    print(b)"
   ]
  },
  {
   "cell_type": "code",
   "execution_count": 150,
   "id": "322084fc",
   "metadata": {},
   "outputs": [
    {
     "name": "stdout",
     "output_type": "stream",
     "text": [
      "(1, 2)\n",
      "(3, 4)\n"
     ]
    }
   ],
   "source": [
    "for (a,b) in x:\n",
    "    l=(a,b)\n",
    "    print(l)"
   ]
  },
  {
   "cell_type": "code",
   "execution_count": 151,
   "id": "62c7e19a",
   "metadata": {},
   "outputs": [],
   "source": [
    "s='foiddog'"
   ]
  },
  {
   "cell_type": "code",
   "execution_count": 152,
   "id": "37e3c261",
   "metadata": {},
   "outputs": [
    {
     "data": {
      "text/plain": [
       "'foiddog'"
      ]
     },
     "execution_count": 152,
     "metadata": {},
     "output_type": "execute_result"
    }
   ],
   "source": [
    "s"
   ]
  },
  {
   "cell_type": "code",
   "execution_count": 153,
   "id": "ed29af70",
   "metadata": {},
   "outputs": [
    {
     "data": {
      "text/plain": [
       "True"
      ]
     },
     "execution_count": 153,
     "metadata": {},
     "output_type": "execute_result"
    }
   ],
   "source": [
    "'dog' in s"
   ]
  },
  {
   "cell_type": "code",
   "execution_count": null,
   "id": "b9c96cfd",
   "metadata": {},
   "outputs": [],
   "source": []
  }
 ],
 "metadata": {
  "kernelspec": {
   "display_name": "Python 3 (ipykernel)",
   "language": "python",
   "name": "python3"
  },
  "language_info": {
   "codemirror_mode": {
    "name": "ipython",
    "version": 3
   },
   "file_extension": ".py",
   "mimetype": "text/x-python",
   "name": "python",
   "nbconvert_exporter": "python",
   "pygments_lexer": "ipython3",
   "version": "3.9.12"
  }
 },
 "nbformat": 4,
 "nbformat_minor": 5
}
